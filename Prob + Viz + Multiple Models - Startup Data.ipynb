{
 "cells": [
  {
   "cell_type": "code",
   "execution_count": 1,
   "id": "d959dfe0",
   "metadata": {},
   "outputs": [],
   "source": [
    "#import modules\n",
    "import numpy as np\n",
    "import pandas as pd\n",
    "import seaborn as sns\n",
    "from scipy import stats\n",
    "\n",
    "# All imports you likely would need\n",
    "## Models and modeling\n",
    "from sklearn.linear_model import LinearRegression\n",
    "from sklearn.linear_model import LogisticRegression\n",
    "from sklearn.naive_bayes import MultinomialNB\n",
    "from sklearn.pipeline import make_pipeline\n",
    "from sklearn.model_selection import cross_validate\n",
    "from sklearn.model_selection import GridSearchCV\n",
    "from sklearn.neighbors import KNeighborsClassifier\n",
    "from sklearn.dummy import DummyClassifier\n",
    "\n",
    "## Data Munging\n",
    "from sklearn.model_selection import train_test_split\n",
    "from sklearn.preprocessing import OneHotEncoder, OrdinalEncoder\n",
    "from sklearn.feature_extraction.text import CountVectorizer\n",
    "\n",
    "## Measurements\n",
    "from sklearn.metrics import mean_squared_error\n",
    "from sklearn.metrics import r2_score\n",
    "from sklearn.metrics import accuracy_score\n",
    "from sklearn.metrics import ConfusionMatrixDisplay # for newer versions of sklearn\n",
    "from sklearn.metrics import plot_confusion_matrix  # for older versions of sklearn\n",
    "import matplotlib.pyplot as plt"
   ]
  },
  {
   "cell_type": "code",
   "execution_count": 2,
   "id": "207d5d02",
   "metadata": {},
   "outputs": [
    {
     "data": {
      "text/html": [
       "<div>\n",
       "<style scoped>\n",
       "    .dataframe tbody tr th:only-of-type {\n",
       "        vertical-align: middle;\n",
       "    }\n",
       "\n",
       "    .dataframe tbody tr th {\n",
       "        vertical-align: top;\n",
       "    }\n",
       "\n",
       "    .dataframe thead th {\n",
       "        text-align: right;\n",
       "    }\n",
       "</style>\n",
       "<table border=\"1\" class=\"dataframe\">\n",
       "  <thead>\n",
       "    <tr style=\"text-align: right;\">\n",
       "      <th></th>\n",
       "      <th>state_code</th>\n",
       "      <th>latitude</th>\n",
       "      <th>longitude</th>\n",
       "      <th>zip_code</th>\n",
       "      <th>id</th>\n",
       "      <th>city</th>\n",
       "      <th>Unnamed: 6</th>\n",
       "      <th>name</th>\n",
       "      <th>labels</th>\n",
       "      <th>founded_at</th>\n",
       "      <th>...</th>\n",
       "      <th>object_id</th>\n",
       "      <th>has_VC</th>\n",
       "      <th>has_angel</th>\n",
       "      <th>has_roundA</th>\n",
       "      <th>has_roundB</th>\n",
       "      <th>has_roundC</th>\n",
       "      <th>has_roundD</th>\n",
       "      <th>avg_participants</th>\n",
       "      <th>is_top500</th>\n",
       "      <th>status</th>\n",
       "    </tr>\n",
       "    <tr>\n",
       "      <th>Unnamed: 0</th>\n",
       "      <th></th>\n",
       "      <th></th>\n",
       "      <th></th>\n",
       "      <th></th>\n",
       "      <th></th>\n",
       "      <th></th>\n",
       "      <th></th>\n",
       "      <th></th>\n",
       "      <th></th>\n",
       "      <th></th>\n",
       "      <th></th>\n",
       "      <th></th>\n",
       "      <th></th>\n",
       "      <th></th>\n",
       "      <th></th>\n",
       "      <th></th>\n",
       "      <th></th>\n",
       "      <th></th>\n",
       "      <th></th>\n",
       "      <th></th>\n",
       "      <th></th>\n",
       "    </tr>\n",
       "  </thead>\n",
       "  <tbody>\n",
       "    <tr>\n",
       "      <th>1005</th>\n",
       "      <td>CA</td>\n",
       "      <td>42.358880</td>\n",
       "      <td>-71.056820</td>\n",
       "      <td>92101</td>\n",
       "      <td>c:6669</td>\n",
       "      <td>San Diego</td>\n",
       "      <td>NaN</td>\n",
       "      <td>Bandsintown</td>\n",
       "      <td>1</td>\n",
       "      <td>1/1/2007</td>\n",
       "      <td>...</td>\n",
       "      <td>c:6669</td>\n",
       "      <td>0</td>\n",
       "      <td>1</td>\n",
       "      <td>0</td>\n",
       "      <td>0</td>\n",
       "      <td>0</td>\n",
       "      <td>0</td>\n",
       "      <td>1.0000</td>\n",
       "      <td>0</td>\n",
       "      <td>acquired</td>\n",
       "    </tr>\n",
       "    <tr>\n",
       "      <th>204</th>\n",
       "      <td>CA</td>\n",
       "      <td>37.238916</td>\n",
       "      <td>-121.973718</td>\n",
       "      <td>95032</td>\n",
       "      <td>c:16283</td>\n",
       "      <td>Los Gatos</td>\n",
       "      <td>NaN</td>\n",
       "      <td>TriCipher</td>\n",
       "      <td>1</td>\n",
       "      <td>1/1/2000</td>\n",
       "      <td>...</td>\n",
       "      <td>c:16283</td>\n",
       "      <td>1</td>\n",
       "      <td>0</td>\n",
       "      <td>0</td>\n",
       "      <td>1</td>\n",
       "      <td>1</td>\n",
       "      <td>1</td>\n",
       "      <td>4.7500</td>\n",
       "      <td>1</td>\n",
       "      <td>acquired</td>\n",
       "    </tr>\n",
       "    <tr>\n",
       "      <th>1001</th>\n",
       "      <td>CA</td>\n",
       "      <td>32.901049</td>\n",
       "      <td>-117.192656</td>\n",
       "      <td>92121</td>\n",
       "      <td>c:65620</td>\n",
       "      <td>San Diego</td>\n",
       "      <td>San Diego CA 92121</td>\n",
       "      <td>Plixi</td>\n",
       "      <td>1</td>\n",
       "      <td>3/18/2009</td>\n",
       "      <td>...</td>\n",
       "      <td>c:65620</td>\n",
       "      <td>0</td>\n",
       "      <td>0</td>\n",
       "      <td>1</td>\n",
       "      <td>0</td>\n",
       "      <td>0</td>\n",
       "      <td>0</td>\n",
       "      <td>4.0000</td>\n",
       "      <td>1</td>\n",
       "      <td>acquired</td>\n",
       "    </tr>\n",
       "    <tr>\n",
       "      <th>738</th>\n",
       "      <td>CA</td>\n",
       "      <td>37.320309</td>\n",
       "      <td>-122.050040</td>\n",
       "      <td>95014</td>\n",
       "      <td>c:42668</td>\n",
       "      <td>Cupertino</td>\n",
       "      <td>Cupertino CA 95014</td>\n",
       "      <td>Solidcore Systems</td>\n",
       "      <td>1</td>\n",
       "      <td>1/1/2002</td>\n",
       "      <td>...</td>\n",
       "      <td>c:42668</td>\n",
       "      <td>0</td>\n",
       "      <td>0</td>\n",
       "      <td>0</td>\n",
       "      <td>1</td>\n",
       "      <td>1</td>\n",
       "      <td>1</td>\n",
       "      <td>3.3333</td>\n",
       "      <td>1</td>\n",
       "      <td>acquired</td>\n",
       "    </tr>\n",
       "    <tr>\n",
       "      <th>1002</th>\n",
       "      <td>CA</td>\n",
       "      <td>37.779281</td>\n",
       "      <td>-122.419236</td>\n",
       "      <td>94105</td>\n",
       "      <td>c:65806</td>\n",
       "      <td>San Francisco</td>\n",
       "      <td>San Francisco CA 94105</td>\n",
       "      <td>Inhale Digital</td>\n",
       "      <td>0</td>\n",
       "      <td>8/1/2010</td>\n",
       "      <td>...</td>\n",
       "      <td>c:65806</td>\n",
       "      <td>1</td>\n",
       "      <td>1</td>\n",
       "      <td>0</td>\n",
       "      <td>0</td>\n",
       "      <td>0</td>\n",
       "      <td>0</td>\n",
       "      <td>1.0000</td>\n",
       "      <td>1</td>\n",
       "      <td>closed</td>\n",
       "    </tr>\n",
       "  </tbody>\n",
       "</table>\n",
       "<p>5 rows × 48 columns</p>\n",
       "</div>"
      ],
      "text/plain": [
       "           state_code   latitude   longitude zip_code       id           city  \\\n",
       "Unnamed: 0                                                                      \n",
       "1005               CA  42.358880  -71.056820    92101   c:6669      San Diego   \n",
       "204                CA  37.238916 -121.973718    95032  c:16283      Los Gatos   \n",
       "1001               CA  32.901049 -117.192656    92121  c:65620      San Diego   \n",
       "738                CA  37.320309 -122.050040    95014  c:42668      Cupertino   \n",
       "1002               CA  37.779281 -122.419236    94105  c:65806  San Francisco   \n",
       "\n",
       "                        Unnamed: 6               name  labels founded_at  ...  \\\n",
       "Unnamed: 0                                                                ...   \n",
       "1005                           NaN        Bandsintown       1   1/1/2007  ...   \n",
       "204                            NaN          TriCipher       1   1/1/2000  ...   \n",
       "1001            San Diego CA 92121              Plixi       1  3/18/2009  ...   \n",
       "738             Cupertino CA 95014  Solidcore Systems       1   1/1/2002  ...   \n",
       "1002        San Francisco CA 94105     Inhale Digital       0   8/1/2010  ...   \n",
       "\n",
       "           object_id has_VC has_angel  has_roundA  has_roundB  has_roundC  \\\n",
       "Unnamed: 0                                                                  \n",
       "1005          c:6669      0         1           0           0           0   \n",
       "204          c:16283      1         0           0           1           1   \n",
       "1001         c:65620      0         0           1           0           0   \n",
       "738          c:42668      0         0           0           1           1   \n",
       "1002         c:65806      1         1           0           0           0   \n",
       "\n",
       "            has_roundD  avg_participants  is_top500    status  \n",
       "Unnamed: 0                                                     \n",
       "1005                 0            1.0000          0  acquired  \n",
       "204                  1            4.7500          1  acquired  \n",
       "1001                 0            4.0000          1  acquired  \n",
       "738                  1            3.3333          1  acquired  \n",
       "1002                 0            1.0000          1    closed  \n",
       "\n",
       "[5 rows x 48 columns]"
      ]
     },
     "execution_count": 2,
     "metadata": {},
     "output_type": "execute_result"
    }
   ],
   "source": [
    "# read data\n",
    "df = pd.read_csv(\"startup data.csv\", index_col=0)\n",
    "df.head()"
   ]
  },
  {
   "cell_type": "code",
   "execution_count": 3,
   "id": "cf5e215e",
   "metadata": {},
   "outputs": [
    {
     "data": {
      "text/plain": [
       "state_code                    0\n",
       "latitude                      0\n",
       "longitude                     0\n",
       "zip_code                      0\n",
       "id                            0\n",
       "city                          0\n",
       "Unnamed: 6                  493\n",
       "name                          0\n",
       "labels                        0\n",
       "founded_at                    0\n",
       "closed_at                   588\n",
       "first_funding_at              0\n",
       "last_funding_at               0\n",
       "age_first_funding_year        0\n",
       "age_last_funding_year         0\n",
       "age_first_milestone_year    152\n",
       "age_last_milestone_year     152\n",
       "relationships                 0\n",
       "funding_rounds                0\n",
       "funding_total_usd             0\n",
       "milestones                    0\n",
       "state_code.1                  1\n",
       "is_CA                         0\n",
       "is_NY                         0\n",
       "is_MA                         0\n",
       "is_TX                         0\n",
       "is_otherstate                 0\n",
       "category_code                 0\n",
       "is_software                   0\n",
       "is_web                        0\n",
       "is_mobile                     0\n",
       "is_enterprise                 0\n",
       "is_advertising                0\n",
       "is_gamesvideo                 0\n",
       "is_ecommerce                  0\n",
       "is_biotech                    0\n",
       "is_consulting                 0\n",
       "is_othercategory              0\n",
       "object_id                     0\n",
       "has_VC                        0\n",
       "has_angel                     0\n",
       "has_roundA                    0\n",
       "has_roundB                    0\n",
       "has_roundC                    0\n",
       "has_roundD                    0\n",
       "avg_participants              0\n",
       "is_top500                     0\n",
       "status                        0\n",
       "dtype: int64"
      ]
     },
     "execution_count": 3,
     "metadata": {},
     "output_type": "execute_result"
    }
   ],
   "source": [
    "df.isnull().sum()"
   ]
  },
  {
   "cell_type": "code",
   "execution_count": 4,
   "id": "4188735a",
   "metadata": {},
   "outputs": [],
   "source": [
    "# data wrangling\n",
    "df = df.drop(['Unnamed: 6'], axis=1)\n",
    "df = df.drop(['state_code.1'], axis=1)\n",
    "df = df.drop(['object_id'], axis=1)\n",
    "start = ['c:']\n",
    "end = ['']\n",
    "df['id'] = df['id'].replace(start, end, regex=True)\n",
    "df.avg_participants = df.avg_participants.round(4)\n",
    "df['age_first_milestone_year'] = df['age_first_milestone_year'].fillna(0)\n",
    "df['age_last_milestone_year'] = df['age_last_milestone_year'].fillna(0)"
   ]
  },
  {
   "cell_type": "code",
   "execution_count": 5,
   "id": "529e1b12",
   "metadata": {},
   "outputs": [],
   "source": [
    "# determine age of startup\n",
    "df['closed_at'] = pd.to_datetime(df['closed_at'])\n",
    "df['founded_at'] = pd.to_datetime(df['founded_at'])\n",
    "\n",
    "# too many NaN in age\n",
    "df[\"age\"] = (df[\"closed_at\"]-df[\"founded_at\"])\n",
    "df[\"age\"]=round(df.age/np.timedelta64(1,'Y'))\n",
    "#df['age'].fillna(0)"
   ]
  },
  {
   "cell_type": "code",
   "execution_count": 6,
   "id": "5aaad530",
   "metadata": {},
   "outputs": [],
   "source": [
    "# variable modification\n",
    "df['status'] = df.status.map({'acquired':1, 'closed':0})\n",
    "df['status'].astype(int)\n",
    "\n",
    "#has rounds of funding\n",
    "df['has_rounds'] = np.where((df['has_roundA'] == 1) | (df['has_roundB'] == 1) | (df['has_roundC'] == 1) | (df['has_roundD'] == 1), 1, 0)\n",
    "\n",
    "#has investor\n",
    "df['has_investor'] = np.where((df['has_VC'] == 1) | (df['has_angel'] == 1), 1, 0)"
   ]
  },
  {
   "cell_type": "code",
   "execution_count": 7,
   "id": "0cd72ec3",
   "metadata": {},
   "outputs": [
    {
     "data": {
      "text/plain": [
       "' goal: narrow down a few factors that show statistically significant results\\n--> later, we will use them as parameters for machine learning model'"
      ]
     },
     "execution_count": 7,
     "metadata": {},
     "output_type": "execute_result"
    }
   ],
   "source": [
    "# probability analysis\n",
    "\"\"\" goal: narrow down a few factors that show statistically significant results\n",
    "--> later, we will use them as parameters for machine learning model\"\"\""
   ]
  },
  {
   "cell_type": "code",
   "execution_count": 8,
   "id": "4016166a",
   "metadata": {},
   "outputs": [
    {
     "name": "stdout",
     "output_type": "stream",
     "text": [
      "p-value: 0.0006484482419631345\n",
      ".shape of my subset(s):\n",
      "(218, 48)\n",
      "(705, 48)\n"
     ]
    }
   ],
   "source": [
    "# Do startups with more funding tend to be more successful?\n",
    "\n",
    "fund_avg = np.mean(df['funding_total_usd'])\n",
    "df_high_funding = df[df['funding_total_usd'] > fund_avg]\n",
    "df_low_funding = df[df['funding_total_usd'] <= fund_avg]\n",
    "p_val = stats.ttest_ind(np.array(df_high_funding[\"status\"]), np.array(df_low_funding[\"status\"]))[1]\n",
    "\n",
    "print('p-value:', p_val)\n",
    "print('.shape of my subset(s):')\n",
    "print(df_high_funding.shape)\n",
    "print(df_low_funding.shape)"
   ]
  },
  {
   "cell_type": "markdown",
   "id": "07c26280",
   "metadata": {},
   "source": [
    "H0: The average number of successful startups is the **same** for companies with higher than the average funding and lower than the average funding.\n",
    "\n",
    "H1: The average number of successful startups is the **not the same** for companies with higher than the average funding and lower than the average funding.\n",
    "\n",
    "This code splits the data into two subsets using the threshold of `Funding Total USD == Average Funding`. Then it performs a two-sided t-test by calling `stats.ttest_ind` on the `status` column of these two subsets.\n",
    "\n",
    "The p-value for my hypothesis test is 0.00065. \n",
    "\n",
    "Using a cutoff of 0.05, this is enough evidence to reject the Null Hypothesis.\n",
    "\n",
    "I used the `stats.ttest_ind` function to conduct my hypothesis test because there are two subsets and they don't overlap."
   ]
  },
  {
   "cell_type": "code",
   "execution_count": 9,
   "id": "04cf5858",
   "metadata": {},
   "outputs": [
    {
     "name": "stdout",
     "output_type": "stream",
     "text": [
      "p-value: 2.780028274247565e-20\n",
      ".shape of my subset(s):\n",
      "(521, 48)\n",
      "(402, 48)\n"
     ]
    }
   ],
   "source": [
    "# Do startups with more milestones tend to be more successful?\n",
    "\n",
    "ms_avg = np.mean(df['milestones'])\n",
    "df_high = df[df['milestones'] > ms_avg]\n",
    "df_low = df[df['milestones'] <= ms_avg]\n",
    "p_val = stats.ttest_ind(np.array(df_high[\"status\"]), np.array(df_low[\"status\"]))[1]\n",
    "\n",
    "print('p-value:', p_val)\n",
    "print('.shape of my subset(s):')\n",
    "print(df_high.shape)\n",
    "print(df_low.shape)"
   ]
  },
  {
   "cell_type": "code",
   "execution_count": 10,
   "id": "8e601dbf",
   "metadata": {},
   "outputs": [
    {
     "name": "stdout",
     "output_type": "stream",
     "text": [
      "p-value: 3.2273151282765555e-26\n",
      ".shape of my subset(s):\n",
      "(340, 48)\n",
      "(583, 48)\n"
     ]
    }
   ],
   "source": [
    "# Do startups with more relationships tend to be more successful?\n",
    "\n",
    "relation_avg = np.mean(df['relationships'])\n",
    "df_r_high = df[df['relationships'] > relation_avg]\n",
    "df_r_low = df[df['relationships'] <= relation_avg]\n",
    "p_val = stats.ttest_ind(np.array(df_r_high[\"status\"]), np.array(df_r_low[\"status\"]))[1]\n",
    "\n",
    "print('p-value:', p_val)\n",
    "print('.shape of my subset(s):')\n",
    "print(df_r_high.shape)\n",
    "print(df_r_low.shape)"
   ]
  },
  {
   "cell_type": "code",
   "execution_count": 11,
   "id": "6a2b57c7",
   "metadata": {},
   "outputs": [
    {
     "name": "stdout",
     "output_type": "stream",
     "text": [
      "p-value: 0.9260999527470455\n",
      ".shape of my subset(s):\n",
      "(154, 48)\n",
      "(181, 48)\n"
     ]
    }
   ],
   "source": [
    "# Do older startups tend to be more successful?\n",
    "\n",
    "age_avg = np.mean(df['age'])\n",
    "df_old = df[df['age'] > age_avg]\n",
    "df_young = df[df['age'] <= age_avg]\n",
    "p_val = stats.ttest_ind(np.array(df_old[\"status\"]), np.array(df_young[\"status\"]))[1]\n",
    "\n",
    "print('p-value:', p_val)\n",
    "print('.shape of my subset(s):')\n",
    "print(df_old.shape)\n",
    "print(df_young.shape)"
   ]
  },
  {
   "cell_type": "code",
   "execution_count": 12,
   "id": "6e80a717",
   "metadata": {},
   "outputs": [
    {
     "name": "stdout",
     "output_type": "stream",
     "text": [
      "N1: 106, N2: 488, N3: 83\n",
      "Funding in NY: (8792587.862359444, 16276237.307451876)\n",
      "Funding in CA: (18144610.940789524, 22866886.546915393)\n",
      "Funding in MA: (17040942.816018447, 26964166.485186376)\n"
     ]
    }
   ],
   "source": [
    "# Funding by most successful # of startup locations\n",
    "\n",
    "df_ny = df[df['state_code']=='NY']\n",
    "n1 = df_ny.shape[0]\n",
    "interval1 = stats.norm.interval(\n",
    "    0.95, df_ny['funding_total_usd'].mean(),\n",
    "    df_ny['funding_total_usd'].std()/np.sqrt(n1))\n",
    "\n",
    "df_ca = df[df['state_code']=='CA']\n",
    "n2 = df_ca.shape[0]\n",
    "interval2 = stats.norm.interval(\n",
    "    0.95, df_ca['funding_total_usd'].mean(),\n",
    "    df_ca['funding_total_usd'].std()/np.sqrt(n2))\n",
    "\n",
    "df_ma = df[df['state_code']=='MA']\n",
    "n3 = df_ma.shape[0]\n",
    "interval3 = stats.norm.interval(\n",
    "    0.95, df_ma['funding_total_usd'].mean(),\n",
    "    df_ma['funding_total_usd'].std()/np.sqrt(n3))\n",
    "\n",
    "print(f\"N1: {n1}, N2: {n2}, N3: {n3}\")\n",
    "print('Funding in NY:', interval1)\n",
    "print('Funding in CA:', interval2)\n",
    "print('Funding in MA:', interval3)"
   ]
  },
  {
   "cell_type": "code",
   "execution_count": 13,
   "id": "e4d4e165",
   "metadata": {},
   "outputs": [
    {
     "name": "stdout",
     "output_type": "stream",
     "text": [
      "N1: 153, N2: 2\n",
      "Funding for tech (13772561.597359316, 20967292.84708513)\n",
      "Funding for transportation: (57682580.97000505, 70021789.02999495)\n"
     ]
    }
   ],
   "source": [
    "# Do more popular startups have higher funding amounts than less popular startups?\n",
    "\n",
    "df_tech = df[df['category_code']=='software']\n",
    "n1 = df_tech.shape[0]\n",
    "interval1 = stats.norm.interval(\n",
    "    0.95, df_tech['funding_total_usd'].mean(),\n",
    "    df_tech['funding_total_usd'].std()/np.sqrt(n1))\n",
    "\n",
    "df_transport = df[df['category_code']=='transportation']\n",
    "n2 = df_transport.shape[0]\n",
    "interval2 = stats.norm.interval(\n",
    "    0.95, df_transport['funding_total_usd'].mean(),\n",
    "    df_transport['funding_total_usd'].std()/np.sqrt(n2))\n",
    "\n",
    "print(f\"N1: {n1}, N2: {n2}\")\n",
    "print('Funding for tech', interval1)\n",
    "print('Funding for transportation:', interval2)\n"
   ]
  },
  {
   "cell_type": "code",
   "execution_count": 14,
   "id": "6f73f7af",
   "metadata": {},
   "outputs": [
    {
     "name": "stdout",
     "output_type": "stream",
     "text": [
      "Success given CA: 0.680327868852459\n",
      "CA given success: 0.5561139028475712\n",
      "Success given NY: 0.7264150943396227\n",
      "NY given success: 0.12897822445561138\n"
     ]
    }
   ],
   "source": [
    "# Do startups in California or New York tend to be more successful?\n",
    "\n",
    "nAll = len(df)\n",
    "\n",
    "nSuccess = sum(df['status'] == 1)\n",
    "isSuccess = df[df['status'] == 1]\n",
    "\n",
    "nCA = sum(df['state_code'] == 'CA')\n",
    "hasCA = df[df['state_code'] == 'CA']\n",
    "\n",
    "nNY = sum(df['state_code'] == 'NY')\n",
    "hasNY = df[df['state_code'] == 'NY']\n",
    "\n",
    "prob_a = nSuccess/nAll\n",
    "prob_b = nCA/nAll\n",
    "prob_c = nNY/nAll\n",
    "\n",
    "prob_a_given_b_data = sum(hasCA['status'] == 1)/nCA\n",
    "prob_b_given_a_data = sum(isSuccess['state_code'] == 'CA')/nSuccess\n",
    "prob_a_given_b_bayes = (prob_b_given_a_data*prob_a)/prob_b\n",
    "prob_b_given_a_bayes = (prob_a_given_b_data*prob_b)/prob_a\n",
    "print(\"Success given CA:\", prob_a_given_b_bayes)\n",
    "print(\"CA given success:\", prob_b_given_a_bayes)\n",
    "\n",
    "prob_a_given_c_data = sum(hasNY['status'] == 1)/nNY\n",
    "prob_c_given_a_data = sum(isSuccess['state_code'] == 'NY')/nSuccess\n",
    "prob_a_given_c_bayes = (prob_c_given_a_data*prob_a)/prob_c\n",
    "prob_c_given_a_bayes = (prob_a_given_c_data*prob_c)/prob_a\n",
    "print(\"Success given NY:\", prob_a_given_c_bayes)\n",
    "print(\"NY given success:\", prob_c_given_a_bayes)"
   ]
  },
  {
   "cell_type": "code",
   "execution_count": 15,
   "id": "504c7aa0",
   "metadata": {},
   "outputs": [
    {
     "data": {
      "text/plain": [
       "' goal: explore startup success by different key factors:\\n--> location\\n--> funding amount\\n--> industry\\n--> age'"
      ]
     },
     "execution_count": 15,
     "metadata": {},
     "output_type": "execute_result"
    }
   ],
   "source": [
    "# visualizations\n",
    "\"\"\" goal: explore startup success by different key factors:\n",
    "--> location\n",
    "--> funding amount\n",
    "--> industry\n",
    "--> age\"\"\""
   ]
  },
  {
   "cell_type": "code",
   "execution_count": 16,
   "id": "710a263a",
   "metadata": {},
   "outputs": [
    {
     "data": {
      "text/plain": [
       "<matplotlib.legend.Legend at 0x1b6daa42310>"
      ]
     },
     "execution_count": 16,
     "metadata": {},
     "output_type": "execute_result"
    },
    {
     "data": {
      "image/png": "[encoded data removed]",
      "text/plain": [
       "<Figure size 720x360 with 1 Axes>"
      ]
     },
     "metadata": {
      "needs_background": "light"
     },
     "output_type": "display_data"
    }
   ],
   "source": [
    "# Which industries seem to have the most successful startups?\n",
    "fig, ax = plt.subplots(figsize=(10,5))\n",
    "sns.countplot(x=\"category_code\", hue=\"status\", data=df,\n",
    "              order=df.category_code.value_counts().index)\n",
    "ax.set_xticklabels(ax.get_xticklabels(), rotation=90)\n",
    "ax.set(xlabel=\"Industry\", ylabel=\"Num of Startups\")\n",
    "plt.legend(bbox_to_anchor=(0.93, 0.93))"
   ]
  },
  {
   "cell_type": "code",
   "execution_count": 17,
   "id": "e8f9ecd5",
   "metadata": {},
   "outputs": [
    {
     "data": {
      "text/html": [
       "<div>\n",
       "<style scoped>\n",
       "    .dataframe tbody tr th:only-of-type {\n",
       "        vertical-align: middle;\n",
       "    }\n",
       "\n",
       "    .dataframe tbody tr th {\n",
       "        vertical-align: top;\n",
       "    }\n",
       "\n",
       "    .dataframe thead th {\n",
       "        text-align: right;\n",
       "    }\n",
       "</style>\n",
       "<table border=\"1\" class=\"dataframe\">\n",
       "  <thead>\n",
       "    <tr style=\"text-align: right;\">\n",
       "      <th></th>\n",
       "      <th>category_code</th>\n",
       "      <th>funding_total_usd</th>\n",
       "      <th>total_startups</th>\n",
       "    </tr>\n",
       "  </thead>\n",
       "  <tbody>\n",
       "    <tr>\n",
       "      <th>459</th>\n",
       "      <td>other</td>\n",
       "      <td>135826373</td>\n",
       "      <td>1</td>\n",
       "    </tr>\n",
       "    <tr>\n",
       "      <th>237</th>\n",
       "      <td>finance</td>\n",
       "      <td>89500000</td>\n",
       "      <td>1</td>\n",
       "    </tr>\n",
       "    <tr>\n",
       "      <th>71</th>\n",
       "      <td>analytics</td>\n",
       "      <td>74000000</td>\n",
       "      <td>1</td>\n",
       "    </tr>\n",
       "    <tr>\n",
       "      <th>458</th>\n",
       "      <td>other</td>\n",
       "      <td>72000000</td>\n",
       "      <td>1</td>\n",
       "    </tr>\n",
       "    <tr>\n",
       "      <th>686</th>\n",
       "      <td>transportation</td>\n",
       "      <td>67000000</td>\n",
       "      <td>1</td>\n",
       "    </tr>\n",
       "    <tr>\n",
       "      <th>685</th>\n",
       "      <td>transportation</td>\n",
       "      <td>60704370</td>\n",
       "      <td>1</td>\n",
       "    </tr>\n",
       "    <tr>\n",
       "      <th>466</th>\n",
       "      <td>photo_video</td>\n",
       "      <td>57500000</td>\n",
       "      <td>1</td>\n",
       "    </tr>\n",
       "    <tr>\n",
       "      <th>236</th>\n",
       "      <td>finance</td>\n",
       "      <td>55350000</td>\n",
       "      <td>1</td>\n",
       "    </tr>\n",
       "    <tr>\n",
       "      <th>95</th>\n",
       "      <td>biotech</td>\n",
       "      <td>55000000</td>\n",
       "      <td>2</td>\n",
       "    </tr>\n",
       "    <tr>\n",
       "      <th>70</th>\n",
       "      <td>analytics</td>\n",
       "      <td>53000000</td>\n",
       "      <td>1</td>\n",
       "    </tr>\n",
       "  </tbody>\n",
       "</table>\n",
       "</div>"
      ],
      "text/plain": [
       "      category_code  funding_total_usd  total_startups\n",
       "459           other          135826373               1\n",
       "237         finance           89500000               1\n",
       "71        analytics           74000000               1\n",
       "458           other           72000000               1\n",
       "686  transportation           67000000               1\n",
       "685  transportation           60704370               1\n",
       "466     photo_video           57500000               1\n",
       "236         finance           55350000               1\n",
       "95          biotech           55000000               2\n",
       "70        analytics           53000000               1"
      ]
     },
     "execution_count": 17,
     "metadata": {},
     "output_type": "execute_result"
    }
   ],
   "source": [
    "# Which industries had a startup that received the most funding?\n",
    "cat_funding_amt = df.groupby(['category_code','funding_total_usd']).size().rename('total_startups').reset_index()\n",
    "cat_funding_amt = cat_funding_amt[cat_funding_amt.groupby('category_code')['total_startups'].transform(max) == cat_funding_amt['total_startups']]\n",
    "cat_funding_amt = cat_funding_amt.sort_values('funding_total_usd', ascending=False)\n",
    "cat_funding_amt.head(10)"
   ]
  },
  {
   "cell_type": "code",
   "execution_count": 18,
   "id": "a18d9d16",
   "metadata": {},
   "outputs": [
    {
     "data": {
      "text/plain": [
       "<seaborn.axisgrid.FacetGrid at 0x1b6db11d0d0>"
      ]
     },
     "execution_count": 18,
     "metadata": {},
     "output_type": "execute_result"
    },
    {
     "data": {
      "image/png": "[encoded data removed]",
      "text/plain": [
       "<Figure size 360x360 with 1 Axes>"
      ]
     },
     "metadata": {
      "needs_background": "light"
     },
     "output_type": "display_data"
    }
   ],
   "source": [
    "#Visualization of funding by industry\n",
    "cat_funding_amt = cat_funding_amt.sort_values(by='funding_total_usd', ascending=False)\n",
    "sns.catplot(data=cat_funding_amt[:20], y=\"category_code\", x=\"funding_total_usd\", kind=\"bar\")"
   ]
  },
  {
   "cell_type": "code",
   "execution_count": 19,
   "id": "ba0c4a6c",
   "metadata": {
    "scrolled": true
   },
   "outputs": [
    {
     "data": {
      "text/html": [
       "<div>\n",
       "<style scoped>\n",
       "    .dataframe tbody tr th:only-of-type {\n",
       "        vertical-align: middle;\n",
       "    }\n",
       "\n",
       "    .dataframe tbody tr th {\n",
       "        vertical-align: top;\n",
       "    }\n",
       "\n",
       "    .dataframe thead th {\n",
       "        text-align: right;\n",
       "    }\n",
       "</style>\n",
       "<table border=\"1\" class=\"dataframe\">\n",
       "  <thead>\n",
       "    <tr style=\"text-align: right;\">\n",
       "      <th></th>\n",
       "      <th>state_code</th>\n",
       "      <th>category_code</th>\n",
       "      <th>total_startups</th>\n",
       "    </tr>\n",
       "  </thead>\n",
       "  <tbody>\n",
       "    <tr>\n",
       "      <th>31</th>\n",
       "      <td>CA</td>\n",
       "      <td>web</td>\n",
       "      <td>55</td>\n",
       "    </tr>\n",
       "    <tr>\n",
       "      <th>72</th>\n",
       "      <td>MA</td>\n",
       "      <td>software</td>\n",
       "      <td>16</td>\n",
       "    </tr>\n",
       "    <tr>\n",
       "      <th>111</th>\n",
       "      <td>NY</td>\n",
       "      <td>web</td>\n",
       "      <td>15</td>\n",
       "    </tr>\n",
       "    <tr>\n",
       "      <th>144</th>\n",
       "      <td>WA</td>\n",
       "      <td>mobile</td>\n",
       "      <td>5</td>\n",
       "    </tr>\n",
       "    <tr>\n",
       "      <th>128</th>\n",
       "      <td>TX</td>\n",
       "      <td>enterprise</td>\n",
       "      <td>4</td>\n",
       "    </tr>\n",
       "    <tr>\n",
       "      <th>136</th>\n",
       "      <td>TX</td>\n",
       "      <td>web</td>\n",
       "      <td>4</td>\n",
       "    </tr>\n",
       "    <tr>\n",
       "      <th>51</th>\n",
       "      <td>IL</td>\n",
       "      <td>software</td>\n",
       "      <td>4</td>\n",
       "    </tr>\n",
       "    <tr>\n",
       "      <th>37</th>\n",
       "      <td>CO</td>\n",
       "      <td>software</td>\n",
       "      <td>4</td>\n",
       "    </tr>\n",
       "    <tr>\n",
       "      <th>44</th>\n",
       "      <td>GA</td>\n",
       "      <td>enterprise</td>\n",
       "      <td>2</td>\n",
       "    </tr>\n",
       "    <tr>\n",
       "      <th>138</th>\n",
       "      <td>VA</td>\n",
       "      <td>mobile</td>\n",
       "      <td>2</td>\n",
       "    </tr>\n",
       "  </tbody>\n",
       "</table>\n",
       "</div>"
      ],
      "text/plain": [
       "    state_code category_code  total_startups\n",
       "31          CA           web              55\n",
       "72          MA      software              16\n",
       "111         NY           web              15\n",
       "144         WA        mobile               5\n",
       "128         TX    enterprise               4\n",
       "136         TX           web               4\n",
       "51          IL      software               4\n",
       "37          CO      software               4\n",
       "44          GA    enterprise               2\n",
       "138         VA        mobile               2"
      ]
     },
     "execution_count": 19,
     "metadata": {},
     "output_type": "execute_result"
    }
   ],
   "source": [
    "# Which industry startups are successful in which locations?\n",
    "success_data = df[df['status']==1]\n",
    "loc_industry_success = success_data.groupby(['state_code','category_code']).size().rename('total_startups').reset_index()\n",
    "loc_industry_success = loc_industry_success[loc_industry_success.groupby('state_code')['total_startups'].transform(max) == loc_industry_success['total_startups']]\n",
    "loc_industry_success = loc_industry_success.sort_values('total_startups', ascending=False)\n",
    "loc_industry_success.head(10)"
   ]
  },
  {
   "cell_type": "code",
   "execution_count": 20,
   "id": "a63d00ff",
   "metadata": {},
   "outputs": [
    {
     "data": {
      "text/html": [
       "<div>\n",
       "<style scoped>\n",
       "    .dataframe tbody tr th:only-of-type {\n",
       "        vertical-align: middle;\n",
       "    }\n",
       "\n",
       "    .dataframe tbody tr th {\n",
       "        vertical-align: top;\n",
       "    }\n",
       "\n",
       "    .dataframe thead th {\n",
       "        text-align: right;\n",
       "    }\n",
       "</style>\n",
       "<table border=\"1\" class=\"dataframe\">\n",
       "  <thead>\n",
       "    <tr style=\"text-align: right;\">\n",
       "      <th>status</th>\n",
       "      <th>0</th>\n",
       "      <th>1</th>\n",
       "    </tr>\n",
       "    <tr>\n",
       "      <th>state_code</th>\n",
       "      <th></th>\n",
       "      <th></th>\n",
       "    </tr>\n",
       "  </thead>\n",
       "  <tbody>\n",
       "    <tr>\n",
       "      <th>AR</th>\n",
       "      <td>1.0</td>\n",
       "      <td>NaN</td>\n",
       "    </tr>\n",
       "    <tr>\n",
       "      <th>AZ</th>\n",
       "      <td>1.0</td>\n",
       "      <td>1.0</td>\n",
       "    </tr>\n",
       "    <tr>\n",
       "      <th>CA</th>\n",
       "      <td>156.0</td>\n",
       "      <td>332.0</td>\n",
       "    </tr>\n",
       "    <tr>\n",
       "      <th>CO</th>\n",
       "      <td>5.0</td>\n",
       "      <td>14.0</td>\n",
       "    </tr>\n",
       "    <tr>\n",
       "      <th>CT</th>\n",
       "      <td>4.0</td>\n",
       "      <td>NaN</td>\n",
       "    </tr>\n",
       "    <tr>\n",
       "      <th>DC</th>\n",
       "      <td>2.0</td>\n",
       "      <td>2.0</td>\n",
       "    </tr>\n",
       "    <tr>\n",
       "      <th>FL</th>\n",
       "      <td>4.0</td>\n",
       "      <td>2.0</td>\n",
       "    </tr>\n",
       "    <tr>\n",
       "      <th>GA</th>\n",
       "      <td>5.0</td>\n",
       "      <td>6.0</td>\n",
       "    </tr>\n",
       "    <tr>\n",
       "      <th>ID</th>\n",
       "      <td>1.0</td>\n",
       "      <td>NaN</td>\n",
       "    </tr>\n",
       "    <tr>\n",
       "      <th>IL</th>\n",
       "      <td>9.0</td>\n",
       "      <td>9.0</td>\n",
       "    </tr>\n",
       "    <tr>\n",
       "      <th>IN</th>\n",
       "      <td>1.0</td>\n",
       "      <td>1.0</td>\n",
       "    </tr>\n",
       "    <tr>\n",
       "      <th>KY</th>\n",
       "      <td>1.0</td>\n",
       "      <td>1.0</td>\n",
       "    </tr>\n",
       "    <tr>\n",
       "      <th>MA</th>\n",
       "      <td>19.0</td>\n",
       "      <td>64.0</td>\n",
       "    </tr>\n",
       "    <tr>\n",
       "      <th>MD</th>\n",
       "      <td>2.0</td>\n",
       "      <td>5.0</td>\n",
       "    </tr>\n",
       "    <tr>\n",
       "      <th>ME</th>\n",
       "      <td>1.0</td>\n",
       "      <td>1.0</td>\n",
       "    </tr>\n",
       "    <tr>\n",
       "      <th>MI</th>\n",
       "      <td>3.0</td>\n",
       "      <td>NaN</td>\n",
       "    </tr>\n",
       "    <tr>\n",
       "      <th>MN</th>\n",
       "      <td>2.0</td>\n",
       "      <td>3.0</td>\n",
       "    </tr>\n",
       "    <tr>\n",
       "      <th>MO</th>\n",
       "      <td>1.0</td>\n",
       "      <td>1.0</td>\n",
       "    </tr>\n",
       "    <tr>\n",
       "      <th>NC</th>\n",
       "      <td>5.0</td>\n",
       "      <td>2.0</td>\n",
       "    </tr>\n",
       "    <tr>\n",
       "      <th>NH</th>\n",
       "      <td>1.0</td>\n",
       "      <td>1.0</td>\n",
       "    </tr>\n",
       "    <tr>\n",
       "      <th>NJ</th>\n",
       "      <td>4.0</td>\n",
       "      <td>3.0</td>\n",
       "    </tr>\n",
       "    <tr>\n",
       "      <th>NM</th>\n",
       "      <td>1.0</td>\n",
       "      <td>NaN</td>\n",
       "    </tr>\n",
       "    <tr>\n",
       "      <th>NV</th>\n",
       "      <td>1.0</td>\n",
       "      <td>1.0</td>\n",
       "    </tr>\n",
       "    <tr>\n",
       "      <th>NY</th>\n",
       "      <td>29.0</td>\n",
       "      <td>77.0</td>\n",
       "    </tr>\n",
       "    <tr>\n",
       "      <th>OH</th>\n",
       "      <td>6.0</td>\n",
       "      <td>NaN</td>\n",
       "    </tr>\n",
       "    <tr>\n",
       "      <th>OR</th>\n",
       "      <td>1.0</td>\n",
       "      <td>6.0</td>\n",
       "    </tr>\n",
       "    <tr>\n",
       "      <th>PA</th>\n",
       "      <td>11.0</td>\n",
       "      <td>6.0</td>\n",
       "    </tr>\n",
       "    <tr>\n",
       "      <th>RI</th>\n",
       "      <td>1.0</td>\n",
       "      <td>2.0</td>\n",
       "    </tr>\n",
       "    <tr>\n",
       "      <th>TN</th>\n",
       "      <td>1.0</td>\n",
       "      <td>2.0</td>\n",
       "    </tr>\n",
       "    <tr>\n",
       "      <th>TX</th>\n",
       "      <td>19.0</td>\n",
       "      <td>23.0</td>\n",
       "    </tr>\n",
       "    <tr>\n",
       "      <th>UT</th>\n",
       "      <td>2.0</td>\n",
       "      <td>1.0</td>\n",
       "    </tr>\n",
       "    <tr>\n",
       "      <th>VA</th>\n",
       "      <td>6.0</td>\n",
       "      <td>7.0</td>\n",
       "    </tr>\n",
       "    <tr>\n",
       "      <th>WA</th>\n",
       "      <td>18.0</td>\n",
       "      <td>24.0</td>\n",
       "    </tr>\n",
       "    <tr>\n",
       "      <th>WI</th>\n",
       "      <td>1.0</td>\n",
       "      <td>NaN</td>\n",
       "    </tr>\n",
       "    <tr>\n",
       "      <th>WV</th>\n",
       "      <td>1.0</td>\n",
       "      <td>NaN</td>\n",
       "    </tr>\n",
       "  </tbody>\n",
       "</table>\n",
       "</div>"
      ],
      "text/plain": [
       "status          0      1\n",
       "state_code              \n",
       "AR            1.0    NaN\n",
       "AZ            1.0    1.0\n",
       "CA          156.0  332.0\n",
       "CO            5.0   14.0\n",
       "CT            4.0    NaN\n",
       "DC            2.0    2.0\n",
       "FL            4.0    2.0\n",
       "GA            5.0    6.0\n",
       "ID            1.0    NaN\n",
       "IL            9.0    9.0\n",
       "IN            1.0    1.0\n",
       "KY            1.0    1.0\n",
       "MA           19.0   64.0\n",
       "MD            2.0    5.0\n",
       "ME            1.0    1.0\n",
       "MI            3.0    NaN\n",
       "MN            2.0    3.0\n",
       "MO            1.0    1.0\n",
       "NC            5.0    2.0\n",
       "NH            1.0    1.0\n",
       "NJ            4.0    3.0\n",
       "NM            1.0    NaN\n",
       "NV            1.0    1.0\n",
       "NY           29.0   77.0\n",
       "OH            6.0    NaN\n",
       "OR            1.0    6.0\n",
       "PA           11.0    6.0\n",
       "RI            1.0    2.0\n",
       "TN            1.0    2.0\n",
       "TX           19.0   23.0\n",
       "UT            2.0    1.0\n",
       "VA            6.0    7.0\n",
       "WA           18.0   24.0\n",
       "WI            1.0    NaN\n",
       "WV            1.0    NaN"
      ]
     },
     "execution_count": 20,
     "metadata": {},
     "output_type": "execute_result"
    }
   ],
   "source": [
    "# DataFrame with the age of startups grouped by each combination of state code and status\n",
    "pivot_table = df.pivot_table(\"id\", index=\"state_code\", columns=\"status\", aggfunc=\"count\")\n",
    "#pivot_table.sort_values(by=['status'], ascending=False)\n",
    "pivot_table"
   ]
  },
  {
   "cell_type": "code",
   "execution_count": 21,
   "id": "5c8349b2",
   "metadata": {},
   "outputs": [
    {
     "data": {
      "text/plain": [
       "<seaborn.axisgrid.FacetGrid at 0x1b6da99b370>"
      ]
     },
     "execution_count": 21,
     "metadata": {},
     "output_type": "execute_result"
    },
    {
     "data": {
      "image/png": "[encoded data removed]",
      "text/plain": [
       "<Figure size 360x360 with 1 Axes>"
      ]
     },
     "metadata": {
      "needs_background": "light"
     },
     "output_type": "display_data"
    }
   ],
   "source": [
    "# Which locations had the most rounds of funding?\n",
    "rounds_df = df.sort_values(by=[\"funding_rounds\"], ascending=True)\n",
    "sns.catplot(data=rounds_df, y=\"state_code\", x=\"funding_rounds\", kind=\"bar\")"
   ]
  },
  {
   "cell_type": "code",
   "execution_count": 22,
   "id": "94e59d22",
   "metadata": {},
   "outputs": [
    {
     "data": {
      "text/html": [
       "<div>\n",
       "<style scoped>\n",
       "    .dataframe tbody tr th:only-of-type {\n",
       "        vertical-align: middle;\n",
       "    }\n",
       "\n",
       "    .dataframe tbody tr th {\n",
       "        vertical-align: top;\n",
       "    }\n",
       "\n",
       "    .dataframe thead th {\n",
       "        text-align: right;\n",
       "    }\n",
       "</style>\n",
       "<table border=\"1\" class=\"dataframe\">\n",
       "  <thead>\n",
       "    <tr style=\"text-align: right;\">\n",
       "      <th></th>\n",
       "      <th>state_code</th>\n",
       "      <th>funding_total_usd</th>\n",
       "      <th>total_startups</th>\n",
       "    </tr>\n",
       "  </thead>\n",
       "  <tbody>\n",
       "    <tr>\n",
       "      <th>332</th>\n",
       "      <td>CO</td>\n",
       "      <td>510000000</td>\n",
       "      <td>1</td>\n",
       "    </tr>\n",
       "    <tr>\n",
       "      <th>378</th>\n",
       "      <td>IN</td>\n",
       "      <td>238209999</td>\n",
       "      <td>1</td>\n",
       "    </tr>\n",
       "    <tr>\n",
       "      <th>479</th>\n",
       "      <td>NC</td>\n",
       "      <td>162264126</td>\n",
       "      <td>1</td>\n",
       "    </tr>\n",
       "    <tr>\n",
       "      <th>336</th>\n",
       "      <td>CT</td>\n",
       "      <td>125000000</td>\n",
       "      <td>1</td>\n",
       "    </tr>\n",
       "    <tr>\n",
       "      <th>460</th>\n",
       "      <td>MD</td>\n",
       "      <td>100000000</td>\n",
       "      <td>1</td>\n",
       "    </tr>\n",
       "    <tr>\n",
       "      <th>488</th>\n",
       "      <td>NJ</td>\n",
       "      <td>78500000</td>\n",
       "      <td>1</td>\n",
       "    </tr>\n",
       "    <tr>\n",
       "      <th>610</th>\n",
       "      <td>PA</td>\n",
       "      <td>75000000</td>\n",
       "      <td>1</td>\n",
       "    </tr>\n",
       "    <tr>\n",
       "      <th>609</th>\n",
       "      <td>PA</td>\n",
       "      <td>69900000</td>\n",
       "      <td>1</td>\n",
       "    </tr>\n",
       "    <tr>\n",
       "      <th>331</th>\n",
       "      <td>CO</td>\n",
       "      <td>68400000</td>\n",
       "      <td>1</td>\n",
       "    </tr>\n",
       "    <tr>\n",
       "      <th>357</th>\n",
       "      <td>GA</td>\n",
       "      <td>60704370</td>\n",
       "      <td>1</td>\n",
       "    </tr>\n",
       "  </tbody>\n",
       "</table>\n",
       "</div>"
      ],
      "text/plain": [
       "    state_code  funding_total_usd  total_startups\n",
       "332         CO          510000000               1\n",
       "378         IN          238209999               1\n",
       "479         NC          162264126               1\n",
       "336         CT          125000000               1\n",
       "460         MD          100000000               1\n",
       "488         NJ           78500000               1\n",
       "610         PA           75000000               1\n",
       "609         PA           69900000               1\n",
       "331         CO           68400000               1\n",
       "357         GA           60704370               1"
      ]
     },
     "execution_count": 22,
     "metadata": {},
     "output_type": "execute_result"
    }
   ],
   "source": [
    "# Locations of the topmost funded startups\n",
    "loc_funding_amt = df.groupby(['state_code','funding_total_usd']).size().rename('total_startups').reset_index()\n",
    "loc_funding_amt = loc_funding_amt[loc_funding_amt.groupby('state_code')['total_startups'].transform(max) == loc_funding_amt['total_startups']]\n",
    "loc_funding_amt = loc_funding_amt.sort_values('funding_total_usd', ascending=False)\n",
    "loc_funding_amt.head(10)"
   ]
  },
  {
   "cell_type": "code",
   "execution_count": 23,
   "id": "27de8d32",
   "metadata": {},
   "outputs": [
    {
     "data": {
      "text/plain": [
       "<seaborn.axisgrid.FacetGrid at 0x1b6dc2fd130>"
      ]
     },
     "execution_count": 23,
     "metadata": {},
     "output_type": "execute_result"
    },
    {
     "data": {
      "image/png": "[encoded data removed]",
      "text/plain": [
       "<Figure size 720x720 with 1 Axes>"
      ]
     },
     "metadata": {
      "needs_background": "light"
     },
     "output_type": "display_data"
    }
   ],
   "source": [
    "# Visualize locations with topmost funding\n",
    "loca_funding_amt = loc_funding_amt.sort_values(by='funding_total_usd', ascending=False)\n",
    "sns.catplot(data=loc_funding_amt[:20], y=\"state_code\", x=\"funding_total_usd\", kind=\"bar\", height=10)"
   ]
  },
  {
   "cell_type": "code",
   "execution_count": 24,
   "id": "33cc74e4",
   "metadata": {},
   "outputs": [
    {
     "data": {
      "text/plain": [
       "<AxesSubplot:xlabel='has_investor', ylabel='avg_participants'>"
      ]
     },
     "execution_count": 24,
     "metadata": {},
     "output_type": "execute_result"
    },
    {
     "data": {
      "image/png": "[encoded data removed]",
      "text/plain": [
       "<Figure size 432x288 with 1 Axes>"
      ]
     },
     "metadata": {
      "needs_background": "light"
     },
     "output_type": "display_data"
    }
   ],
   "source": [
    "# Compare the success of startups based on the number of participants they have \n",
    "# and if they received funding\n",
    "sns.boxplot(x = \"has_investor\", y = \"avg_participants\", \n",
    "            data = df, hue = \"status\")"
   ]
  },
  {
   "cell_type": "code",
   "execution_count": 25,
   "id": "70af847f",
   "metadata": {},
   "outputs": [
    {
     "data": {
      "text/plain": [
       "<AxesSubplot:xlabel='milestones', ylabel='Count'>"
      ]
     },
     "execution_count": 25,
     "metadata": {},
     "output_type": "execute_result"
    },
    {
     "data": {
      "image/png": "[encoded data removed]",
      "text/plain": [
       "<Figure size 432x288 with 1 Axes>"
      ]
     },
     "metadata": {
      "needs_background": "light"
     },
     "output_type": "display_data"
    }
   ],
   "source": [
    "# How many milestones do successful startups tend to have?\n",
    "sns.histplot(x = \"milestones\", data = df, hue=\"status\")"
   ]
  },
  {
   "cell_type": "code",
   "execution_count": 26,
   "id": "300084c0",
   "metadata": {},
   "outputs": [
    {
     "data": {
      "text/plain": [
       "<AxesSubplot:xlabel='age', ylabel='relationships'>"
      ]
     },
     "execution_count": 26,
     "metadata": {},
     "output_type": "execute_result"
    },
    {
     "data": {
      "image/png": "[encoded data removed]",
      "text/plain": [
       "<Figure size 432x288 with 1 Axes>"
      ]
     },
     "metadata": {
      "needs_background": "light"
     },
     "output_type": "display_data"
    }
   ],
   "source": [
    "# How does age relate to the number of relationships?\n",
    "# Is there a certain combination that tends to have more successful startups?\n",
    "sns.scatterplot(data=df, x='age', y='relationships', hue='status')"
   ]
  },
  {
   "cell_type": "code",
   "execution_count": 27,
   "id": "e5f8389e",
   "metadata": {},
   "outputs": [
    {
     "data": {
      "text/plain": [
       "<seaborn.axisgrid.PairGrid at 0x1b6dc5f9130>"
      ]
     },
     "execution_count": 27,
     "metadata": {},
     "output_type": "execute_result"
    },
    {
     "data": {
      "image/png": "[encoded data removed]",
      "text/plain": [
       "<Figure size 582.375x540 with 12 Axes>"
      ]
     },
     "metadata": {
      "needs_background": "light"
     },
     "output_type": "display_data"
    }
   ],
   "source": [
    "# Pair plot - find which combinations of age, milestones, and relationships seem to have the most successful startups\n",
    "pair_data = df[['age','milestones','relationships', 'status']]\n",
    "sns.pairplot(pair_data, hue=\"status\")"
   ]
  },
  {
   "cell_type": "code",
   "execution_count": 28,
   "id": "506d2957",
   "metadata": {},
   "outputs": [
    {
     "data": {
      "text/plain": [
       "<AxesSubplot:>"
      ]
     },
     "execution_count": 28,
     "metadata": {},
     "output_type": "execute_result"
    },
    {
     "data": {
      "image/png": "[encoded data removed]",
      "text/plain": [
       "<Figure size 432x288 with 2 Axes>"
      ]
     },
     "metadata": {
      "needs_background": "light"
     },
     "output_type": "display_data"
    }
   ],
   "source": [
    "# Check if the pair plot variables have correlations?\n",
    "heatmap_data = df[['age', 'milestones','relationships', 'status']]\n",
    "sns.heatmap(heatmap_data.corr(), annot=True)"
   ]
  },
  {
   "cell_type": "code",
   "execution_count": 29,
   "id": "95593171",
   "metadata": {},
   "outputs": [
    {
     "data": {
      "text/plain": [
       "<AxesSubplot:>"
      ]
     },
     "execution_count": 29,
     "metadata": {},
     "output_type": "execute_result"
    },
    {
     "data": {
      "image/png": "[encoded data removed]",
      "text/plain": [
       "<Figure size 432x288 with 2 Axes>"
      ]
     },
     "metadata": {
      "needs_background": "light"
     },
     "output_type": "display_data"
    }
   ],
   "source": [
    "# Check if binary variables are correlated to success in any way\n",
    "heatmap_data2 = df[['has_investor', 'has_rounds','is_top500','status']]\n",
    "sns.heatmap(heatmap_data2.corr(), annot=True)"
   ]
  },
  {
   "cell_type": "code",
   "execution_count": 30,
   "id": "f139726f",
   "metadata": {},
   "outputs": [
    {
     "data": {
      "text/plain": [
       "' goal: use top 3-4 factors from prob & visualization analysis\\n--> create a machine learning model to predict startup success'"
      ]
     },
     "execution_count": 30,
     "metadata": {},
     "output_type": "execute_result"
    }
   ],
   "source": [
    "# machine learning model - 71% accurate\n",
    "\"\"\" goal: use top 3-4 factors from prob & visualization analysis\n",
    "--> create a machine learning model to predict startup success\"\"\""
   ]
  },
  {
   "cell_type": "code",
   "execution_count": 31,
   "id": "dcf73157",
   "metadata": {
    "scrolled": true
   },
   "outputs": [
    {
     "name": "stdout",
     "output_type": "stream",
     "text": [
      "best n: 9\n"
     ]
    },
    {
     "data": {
      "image/png": "[encoded data removed]",
      "text/plain": [
       "<Figure size 432x288 with 2 Axes>"
      ]
     },
     "metadata": {
      "needs_background": "light"
     },
     "output_type": "display_data"
    },
    {
     "data": {
      "image/png": "[encoded data removed]",
      "text/plain": [
       "<Figure size 432x288 with 2 Axes>"
      ]
     },
     "metadata": {
      "needs_background": "light"
     },
     "output_type": "display_data"
    }
   ],
   "source": [
    "df_ml = df[['status', 'funding_total_usd', 'milestones', 'relationships', 'category_code']]\n",
    "col_target = 'status'\n",
    "\n",
    "target = df_ml[col_target].values\n",
    "categorical = OneHotEncoder().fit_transform(df_ml[['category_code']].values).toarray()\n",
    "data = np.append(categorical, df_ml[['funding_total_usd', 'milestones', 'relationships']].values, axis=1)\n",
    "\n",
    "train_data, test_data, train_target, test_target = train_test_split(\n",
    "    data, target, test_size=0.2, random_state=216)\n",
    "\n",
    "params_to_try = {'n_neighbors': range(1, 20)}\n",
    "knn_search = GridSearchCV(estimator=KNeighborsClassifier(), param_grid=params_to_try)\n",
    "knn_search.fit(train_data, train_target)\n",
    "\n",
    "baseline_model = DummyClassifier(strategy=\"most_frequent\")\n",
    "baseline_model.fit(X=train_data, y=train_target)\n",
    "baseline_predicted = baseline_model.predict(data)\n",
    "\n",
    "accuracy_model = knn_search.score(test_data, test_target)\n",
    "accuracy_baseline = accuracy_score(y_true=target, y_pred=baseline_predicted)\n",
    "print('best n:', knn_search.best_params_['n_neighbors'])\n",
    "\n",
    "ConfusionMatrixDisplay.from_estimator(estimator=knn_search, X=data, y=target)\n",
    "plt.grid(False)\n",
    "ConfusionMatrixDisplay.from_estimator(estimator=baseline_model, X=data, y=target)\n",
    "plt.grid(False)\n"
   ]
  },
  {
   "cell_type": "code",
   "execution_count": 32,
   "id": "a13f6c33",
   "metadata": {},
   "outputs": [
    {
     "name": "stdout",
     "output_type": "stream",
     "text": [
      "(923, 5)\n",
      ">=300 rows? True\n",
      "Categories:\n",
      "1    597\n",
      "0    326\n",
      "Name: status, dtype: int64\n",
      "Accuracy:  0.7081081081081081\n",
      "Accuracy Baseline:  0.6468039003250271\n"
     ]
    }
   ],
   "source": [
    "print(df_ml.shape)\n",
    "print('>=300 rows?', df_ml.shape[0] >= 300)\n",
    "print('Categories:')\n",
    "print(df_ml[col_target].value_counts())\n",
    "print('Accuracy: ', accuracy_model)\n",
    "print('Accuracy Baseline: ', accuracy_baseline)"
   ]
  },
  {
   "cell_type": "code",
   "execution_count": 36,
   "id": "c4724d12",
   "metadata": {},
   "outputs": [
    {
     "name": "stdout",
     "output_type": "stream",
     "text": [
      "best n: 9\n"
     ]
    },
    {
     "data": {
      "image/png": "[encoded data removed]",
      "text/plain": [
       "<Figure size 432x288 with 2 Axes>"
      ]
     },
     "metadata": {
      "needs_background": "light"
     },
     "output_type": "display_data"
    },
    {
     "data": {
      "image/png": "[encoded data removed]",
      "text/plain": [
       "<Figure size 432x288 with 2 Axes>"
      ]
     },
     "metadata": {
      "needs_background": "light"
     },
     "output_type": "display_data"
    }
   ],
   "source": [
    "#ML #2: LOCATION INSTEAD OF INDUSTRY\n",
    "\n",
    "df_ml2 = df[['status', 'funding_total_usd', 'milestones', 'relationships', 'state_code']]\n",
    "col_target = 'status'\n",
    "\n",
    "target = df_ml2[col_target].values\n",
    "categorical = OneHotEncoder().fit_transform(df_ml2[['state_code']].values).toarray()\n",
    "data = np.append(categorical, df_ml2[['funding_total_usd', 'milestones', 'relationships']].values, axis=1)\n",
    "\n",
    "train_data, test_data, train_target, test_target = train_test_split(\n",
    "    data, target, test_size=0.2, random_state=216)\n",
    "\n",
    "params_to_try = {'n_neighbors': range(1, 20)}\n",
    "knn_search = GridSearchCV(estimator=KNeighborsClassifier(), param_grid=params_to_try)\n",
    "knn_search.fit(train_data, train_target)\n",
    "\n",
    "baseline_model = DummyClassifier(strategy=\"most_frequent\")\n",
    "baseline_model.fit(X=train_data, y=train_target)\n",
    "baseline_predicted = baseline_model.predict(data)\n",
    "\n",
    "accuracy_model = knn_search.score(test_data, test_target)\n",
    "accuracy_baseline = accuracy_score(y_true=target, y_pred=baseline_predicted)\n",
    "print('best n:', knn_search.best_params_['n_neighbors'])\n",
    "\n",
    "ConfusionMatrixDisplay.from_estimator(estimator=knn_search, X=data, y=target)\n",
    "plt.grid(False)\n",
    "ConfusionMatrixDisplay.from_estimator(estimator=baseline_model, X=data, y=target)\n",
    "plt.grid(False)\n"
   ]
  },
  {
   "cell_type": "code",
   "execution_count": 37,
   "id": "ad472b31",
   "metadata": {},
   "outputs": [
    {
     "name": "stdout",
     "output_type": "stream",
     "text": [
      "(923, 5)\n",
      ">=300 rows? True\n",
      "Categories:\n",
      "1    597\n",
      "0    326\n",
      "Name: status, dtype: int64\n",
      "Accuracy:  0.7081081081081081\n",
      "Accuracy Baseline:  0.6468039003250271\n"
     ]
    }
   ],
   "source": [
    "print(df_ml2.shape)\n",
    "print('>=300 rows?', df_ml2.shape[0] >= 300)\n",
    "print('Categories:')\n",
    "print(df_ml2[col_target].value_counts())\n",
    "print('Accuracy: ', accuracy_model)\n",
    "print('Accuracy Baseline: ', accuracy_baseline)"
   ]
  },
  {
   "cell_type": "code",
   "execution_count": 40,
   "id": "14ae791f",
   "metadata": {},
   "outputs": [
    {
     "name": "stdout",
     "output_type": "stream",
     "text": [
      "best n: 9\n"
     ]
    },
    {
     "data": {
      "image/png": "[encoded data removed]",
      "text/plain": [
       "<Figure size 432x288 with 2 Axes>"
      ]
     },
     "metadata": {
      "needs_background": "light"
     },
     "output_type": "display_data"
    },
    {
     "data": {
      "image/png": "[encoded data removed]",
      "text/plain": [
       "<Figure size 432x288 with 2 Axes>"
      ]
     },
     "metadata": {
      "needs_background": "light"
     },
     "output_type": "display_data"
    }
   ],
   "source": [
    "# ML3: NO STATE / INDUSTRY\n",
    "\n",
    "df_ml3 = df[['status', 'funding_total_usd', 'milestones', 'relationships']]\n",
    "col_target = 'status'\n",
    "\n",
    "target = df_ml3[col_target].values\n",
    "data = df_ml3\n",
    "\n",
    "train_data, test_data, train_target, test_target = train_test_split(\n",
    "    data, target, test_size=0.2, random_state=216)\n",
    "\n",
    "params_to_try = {'n_neighbors': range(1, 20)}\n",
    "knn_search = GridSearchCV(estimator=KNeighborsClassifier(), param_grid=params_to_try)\n",
    "knn_search.fit(train_data, train_target)\n",
    "\n",
    "baseline_model = DummyClassifier(strategy=\"most_frequent\")\n",
    "baseline_model.fit(X=train_data, y=train_target)\n",
    "baseline_predicted = baseline_model.predict(data)\n",
    "\n",
    "accuracy_model = knn_search.score(test_data, test_target)\n",
    "accuracy_baseline = accuracy_score(y_true=target, y_pred=baseline_predicted)\n",
    "print('best n:', knn_search.best_params_['n_neighbors'])\n",
    "\n",
    "ConfusionMatrixDisplay.from_estimator(estimator=knn_search, X=data, y=target)\n",
    "plt.grid(False)\n",
    "ConfusionMatrixDisplay.from_estimator(estimator=baseline_model, X=data, y=target)\n",
    "plt.grid(False)"
   ]
  },
  {
   "cell_type": "code",
   "execution_count": 41,
   "id": "b800e418",
   "metadata": {},
   "outputs": [
    {
     "name": "stdout",
     "output_type": "stream",
     "text": [
      "(923, 4)\n",
      ">=300 rows? True\n",
      "Categories:\n",
      "1    597\n",
      "0    326\n",
      "Name: status, dtype: int64\n",
      "Accuracy:  0.7081081081081081\n",
      "Accuracy Baseline:  0.6468039003250271\n"
     ]
    }
   ],
   "source": [
    "print(df_ml3.shape)\n",
    "print('>=300 rows?', df_ml3.shape[0] >= 300)\n",
    "print('Categories:')\n",
    "print(df_ml3[col_target].value_counts())\n",
    "print('Accuracy: ', accuracy_model)\n",
    "print('Accuracy Baseline: ', accuracy_baseline)"
   ]
  },
  {
   "cell_type": "code",
   "execution_count": 42,
   "id": "bf07d430",
   "metadata": {},
   "outputs": [
    {
     "name": "stdout",
     "output_type": "stream",
     "text": [
      "best n: 3\n"
     ]
    },
    {
     "data": {
      "image/png": "[encoded data removed]",
      "text/plain": [
       "<Figure size 432x288 with 2 Axes>"
      ]
     },
     "metadata": {
      "needs_background": "light"
     },
     "output_type": "display_data"
    },
    {
     "data": {
      "image/png": "[encoded data removed]",
      "text/plain": [
       "<Figure size 432x288 with 2 Axes>"
      ]
     },
     "metadata": {
      "needs_background": "light"
     },
     "output_type": "display_data"
    }
   ],
   "source": [
    "# ML4: NO FUNDING\n",
    "df_ml4 = df[['status', 'milestones', 'relationships']]\n",
    "col_target = 'status'\n",
    "\n",
    "target = df_ml4[col_target].values\n",
    "data = df_ml4\n",
    "\n",
    "train_data, test_data, train_target, test_target = train_test_split(\n",
    "    data, target, test_size=0.2, random_state=216)\n",
    "\n",
    "params_to_try = {'n_neighbors': range(1, 20)}\n",
    "knn_search = GridSearchCV(estimator=KNeighborsClassifier(), param_grid=params_to_try)\n",
    "knn_search.fit(train_data, train_target)\n",
    "\n",
    "baseline_model = DummyClassifier(strategy=\"most_frequent\")\n",
    "baseline_model.fit(X=train_data, y=train_target)\n",
    "baseline_predicted = baseline_model.predict(data)\n",
    "\n",
    "accuracy_model = knn_search.score(test_data, test_target)\n",
    "accuracy_baseline = accuracy_score(y_true=target, y_pred=baseline_predicted)\n",
    "print('best n:', knn_search.best_params_['n_neighbors'])\n",
    "\n",
    "ConfusionMatrixDisplay.from_estimator(estimator=knn_search, X=data, y=target)\n",
    "plt.grid(False)\n",
    "ConfusionMatrixDisplay.from_estimator(estimator=baseline_model, X=data, y=target)\n",
    "plt.grid(False)"
   ]
  },
  {
   "cell_type": "code",
   "execution_count": 43,
   "id": "d07c4ed7",
   "metadata": {},
   "outputs": [
    {
     "name": "stdout",
     "output_type": "stream",
     "text": [
      "(923, 3)\n",
      ">=300 rows? True\n",
      "Categories:\n",
      "1    597\n",
      "0    326\n",
      "Name: status, dtype: int64\n",
      "Accuracy:  0.9783783783783784\n",
      "Accuracy Baseline:  0.6468039003250271\n"
     ]
    }
   ],
   "source": [
    "print(df_ml4.shape)\n",
    "print('>=300 rows?', df_ml4.shape[0] >= 300)\n",
    "print('Categories:')\n",
    "print(df_ml4[col_target].value_counts())\n",
    "print('Accuracy: ', accuracy_model)\n",
    "print('Accuracy Baseline: ', accuracy_baseline)"
   ]
  },
  {
   "cell_type": "code",
   "execution_count": 46,
   "id": "fb38424b",
   "metadata": {},
   "outputs": [
    {
     "name": "stdout",
     "output_type": "stream",
     "text": [
      "best n: 9\n"
     ]
    },
    {
     "data": {
      "image/png": "[encoded data removed]",
      "text/plain": [
       "<Figure size 432x288 with 2 Axes>"
      ]
     },
     "metadata": {
      "needs_background": "light"
     },
     "output_type": "display_data"
    },
    {
     "data": {
      "image/png": "[encoded data removed]",
      "text/plain": [
       "<Figure size 432x288 with 2 Axes>"
      ]
     },
     "metadata": {
      "needs_background": "light"
     },
     "output_type": "display_data"
    }
   ],
   "source": [
    "# ML5: no funding, but use industry\n",
    "\n",
    "df_ml5 = df[['status', 'milestones', 'relationships', 'category_code']]\n",
    "col_target = 'status'\n",
    "\n",
    "target = df_ml5[col_target].values\n",
    "categorical = OneHotEncoder().fit_transform(df_ml5[['category_code']].values).toarray()\n",
    "data = np.append(categorical, df_ml5[['milestones', 'relationships']].values, axis=1)\n",
    "\n",
    "train_data, test_data, train_target, test_target = train_test_split(\n",
    "    data, target, test_size=0.2, random_state=216)\n",
    "\n",
    "params_to_try = {'n_neighbors': range(1, 20)}\n",
    "knn_search = GridSearchCV(estimator=KNeighborsClassifier(), param_grid=params_to_try)\n",
    "knn_search.fit(train_data, train_target)\n",
    "\n",
    "baseline_model = DummyClassifier(strategy=\"most_frequent\")\n",
    "baseline_model.fit(X=train_data, y=train_target)\n",
    "baseline_predicted = baseline_model.predict(data)\n",
    "\n",
    "accuracy_model = knn_search.score(test_data, test_target)\n",
    "accuracy_baseline = accuracy_score(y_true=target, y_pred=baseline_predicted)\n",
    "print('best n:', knn_search.best_params_['n_neighbors'])\n",
    "\n",
    "ConfusionMatrixDisplay.from_estimator(estimator=knn_search, X=data, y=target)\n",
    "plt.grid(False)\n",
    "ConfusionMatrixDisplay.from_estimator(estimator=baseline_model, X=data, y=target)\n",
    "plt.grid(False)"
   ]
  },
  {
   "cell_type": "code",
   "execution_count": 47,
   "id": "ee275c28",
   "metadata": {},
   "outputs": [
    {
     "name": "stdout",
     "output_type": "stream",
     "text": [
      "(923, 4)\n",
      ">=300 rows? True\n",
      "Categories:\n",
      "1    597\n",
      "0    326\n",
      "Name: status, dtype: int64\n",
      "Accuracy:  0.7567567567567568\n",
      "Accuracy Baseline:  0.6468039003250271\n"
     ]
    }
   ],
   "source": [
    "print(df_ml5.shape)\n",
    "print('>=300 rows?', df_ml5.shape[0] >= 300)\n",
    "print('Categories:')\n",
    "print(df_ml5[col_target].value_counts())\n",
    "print('Accuracy: ', accuracy_model)\n",
    "print('Accuracy Baseline: ', accuracy_baseline)"
   ]
  },
  {
   "cell_type": "code",
   "execution_count": 48,
   "id": "3714e3b7",
   "metadata": {},
   "outputs": [
    {
     "name": "stdout",
     "output_type": "stream",
     "text": [
      "best n: 18\n"
     ]
    },
    {
     "data": {
      "image/png": "[encoded data removed]",
      "text/plain": [
       "<Figure size 432x288 with 2 Axes>"
      ]
     },
     "metadata": {
      "needs_background": "light"
     },
     "output_type": "display_data"
    },
    {
     "data": {
      "image/png": "[encoded data removed]",
      "text/plain": [
       "<Figure size 432x288 with 2 Axes>"
      ]
     },
     "metadata": {
      "needs_background": "light"
     },
     "output_type": "display_data"
    }
   ],
   "source": [
    "# ML5: no funding, but use state\n",
    "\n",
    "df_ml6 = df[['status', 'milestones', 'relationships', 'state_code']]\n",
    "col_target = 'status'\n",
    "\n",
    "target = df_ml6[col_target].values\n",
    "categorical = OneHotEncoder().fit_transform(df_ml6[['state_code']].values).toarray()\n",
    "data = np.append(categorical, df_ml6[['milestones', 'relationships']].values, axis=1)\n",
    "\n",
    "train_data, test_data, train_target, test_target = train_test_split(\n",
    "    data, target, test_size=0.2, random_state=216)\n",
    "\n",
    "params_to_try = {'n_neighbors': range(1, 20)}\n",
    "knn_search = GridSearchCV(estimator=KNeighborsClassifier(), param_grid=params_to_try)\n",
    "knn_search.fit(train_data, train_target)\n",
    "\n",
    "baseline_model = DummyClassifier(strategy=\"most_frequent\")\n",
    "baseline_model.fit(X=train_data, y=train_target)\n",
    "baseline_predicted = baseline_model.predict(data)\n",
    "\n",
    "accuracy_model = knn_search.score(test_data, test_target)\n",
    "accuracy_baseline = accuracy_score(y_true=target, y_pred=baseline_predicted)\n",
    "print('best n:', knn_search.best_params_['n_neighbors'])\n",
    "\n",
    "ConfusionMatrixDisplay.from_estimator(estimator=knn_search, X=data, y=target)\n",
    "plt.grid(False)\n",
    "ConfusionMatrixDisplay.from_estimator(estimator=baseline_model, X=data, y=target)\n",
    "plt.grid(False)"
   ]
  },
  {
   "cell_type": "code",
   "execution_count": 49,
   "id": "30657cb3",
   "metadata": {},
   "outputs": [
    {
     "name": "stdout",
     "output_type": "stream",
     "text": [
      "(923, 4)\n",
      ">=300 rows? True\n",
      "Categories:\n",
      "1    597\n",
      "0    326\n",
      "Name: status, dtype: int64\n",
      "Accuracy:  0.8162162162162162\n",
      "Accuracy Baseline:  0.6468039003250271\n"
     ]
    }
   ],
   "source": [
    "print(df_ml6.shape)\n",
    "print('>=300 rows?', df_ml6.shape[0] >= 300)\n",
    "print('Categories:')\n",
    "print(df_ml6[col_target].value_counts())\n",
    "print('Accuracy: ', accuracy_model)\n",
    "print('Accuracy Baseline: ', accuracy_baseline)"
   ]
  },
  {
   "cell_type": "code",
   "execution_count": 33,
   "id": "8535ad85",
   "metadata": {},
   "outputs": [
    {
     "name": "stdout",
     "output_type": "stream",
     "text": [
      "Model MSE: 0.18081438997112106 r^2: 0.20851176930816062\n",
      "Baseline MSE: 0.22844861484935955 r^2: 0.0\n"
     ]
    }
   ],
   "source": [
    "# linear regression model - not a good fit\n",
    "\n",
    "df_lr = df[['funding_total_usd', 'milestones', 'relationships']].values\n",
    "target = df['status'].values\n",
    "\n",
    "linear_model = LinearRegression()\n",
    "linear_model.fit(X=data, y=target)\n",
    "df[\"predicted_status\"] = linear_model.predict(data)\n",
    "predicted = linear_model.predict(data)\n",
    "\n",
    "mse = mean_squared_error(df[\"status\"], df[\"predicted_status\"]) # float: MSE of your model\n",
    "r2 = r2_score(df[\"status\"], df[\"predicted_status\"] ) # float: R^2 score of your model\n",
    "\n",
    "avg = np.mean(df['status'])\n",
    "baseline = np.full(predicted.shape, avg)\n",
    "b_mse = mean_squared_error(target, baseline) # float: MSE of the baseline \n",
    "b_r2 = r2_score(target, baseline) # float: R^2 score of the baseline\n",
    "\n",
    "print(\"Model MSE:\", mse, \"r^2:\", r2)\n",
    "print(\"Baseline MSE:\", b_mse, \"r^2:\", b_r2)"
   ]
  },
  {
   "cell_type": "markdown",
   "id": "7f25433c",
   "metadata": {},
   "source": [
    "After trying combinations of parameters, we get a much higher accuracy by not including funding and only focusing on milestones and relationships. --> Odd conclusion\n",
    "\n",
    "We can try to include variations with state and industry to see if they affect model accuracy as well."
   ]
  },
  {
   "cell_type": "code",
   "execution_count": 34,
   "id": "2a3248d5",
   "metadata": {},
   "outputs": [],
   "source": [
    "# logistic regression\n",
    "\n",
    "# df_lr2 = df[['funding_total_usd', 'milestones', 'relationships']].values\n",
    "# target = df['status'].values\n",
    "# train_data, test_data, train_target, test_target = train_test_split(\n",
    "#     data, target, test_size=0.2, random_state=999)\n",
    "\n",
    "# logistic_model = LogisticRegression(max_iter=1000)\n",
    "# logistic_model.fit(X=train_data, y=train_target)\n",
    "# predicted_status = logistic_model.predict(test_data)\n",
    "# model_accuracy = accuracy_score(test_target.values, predicted_status)\n",
    "# print(\"accuracy:\", model_accuracy)\n",
    "# ConfusionMatrixDisplay.from_estimator(estimator=logistic_model, X=test_data, y=test_target.values)\n",
    "# plt.grid(False)\n"
   ]
  },
  {
   "cell_type": "code",
   "execution_count": null,
   "id": "6d16e6d6",
   "metadata": {},
   "outputs": [],
   "source": []
  }
 ],
 "metadata": {
  "kernelspec": {
   "display_name": "Python 3 (ipykernel)",
   "language": "python",
   "name": "python3"
  },
  "language_info": {
   "codemirror_mode": {
    "name": "ipython",
    "version": 3
   },
   "file_extension": ".py",
   "mimetype": "text/x-python",
   "name": "python",
   "nbconvert_exporter": "python",
   "pygments_lexer": "ipython3",
   "version": "3.9.12"
  }
 },
 "nbformat": 4,
 "nbformat_minor": 5
}
